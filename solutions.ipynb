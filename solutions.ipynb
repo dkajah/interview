{
 "cells": [
  {
   "cell_type": "code",
   "execution_count": 18,
   "metadata": {
    "collapsed": true
   },
   "outputs": [],
   "source": [
    "def word_count(sentence):\n",
    "    sentence = [x.strip() for x in sentence.strip().split(' ')]\n",
    "    return len(sentence)\n",
    "\n",
    "def word_freq(sentence):\n",
    "    result = dict()\n",
    "    sentence = [x.strip() for x in sentence.strip().split(' ')]\n",
    "    \n",
    "    for word in sentence:\n",
    "        if word in result:\n",
    "            result[word] += 1\n",
    "        else:\n",
    "            result[word] = 1\n",
    "    return result\n",
    "        \n",
    "def char_count(sentence):\n",
    "    count = 0\n",
    "    for char in sentence:\n",
    "        if char.isalpha(): # only count the char if it is in the alphabet\n",
    "            count = count + 1\n",
    "    return count\n",
    "def char_freq(sentence):\n",
    "    result = {}\n",
    "    for char in sentence:\n",
    "        # if not char.isalpha() and not char.isdigit():\n",
    "            # continue\n",
    "        if char in result:\n",
    "            result[char] += 1\n",
    "        else:\n",
    "            result[char] = 1\n",
    "    return result\n",
    "            \n",
    "def factorial(n):\n",
    "    if n < 0:\n",
    "        raise ValueError('n must be >= 0')\n",
    "    if n == 0 or n == 1:\n",
    "        return 1\n",
    "    result = 1\n",
    "    while n != 1:\n",
    "        result = result * n\n",
    "        n = n - 1\n",
    "    \n",
    "    return result\n",
    "\n",
    "def factorial_r(n):\n",
    "    if n == 0 or n == 1:\n",
    "        return 1\n",
    "    return n * factorial(n - 1)\n",
    "\n",
    "def fib(nth):\n",
    "    if nth < 1:\n",
    "        raise ValueError('n must be > 0')\n",
    "    \n",
    "    if nth == 1 or nth == 2:\n",
    "        return 1\n",
    "    \n",
    "    a, b = 1, 1\n",
    "    \n",
    "    for i in range(nth - 2): # nth - 2, because the first 2 fib numbers are already calculated: a, b = 1, 1\n",
    "        total = a + b\n",
    "        a = b\n",
    "        b = total\n",
    "        \n",
    "    return b\n",
    "\n",
    "def fib2(n):\n",
    "    if n < 1:\n",
    "        raise ValueError('n must be > 0')\n",
    "    \n",
    "    if n == 1:\n",
    "        return [1]\n",
    "    if n == 2:\n",
    "        return [1, 1]\n",
    "    \n",
    "    a, b = 1, 1\n",
    "    result = [1, 1]\n",
    "    \n",
    "    for i in range(n - 2):\n",
    "        total = a + b\n",
    "        result.append(total)\n",
    "        a = b\n",
    "        b = total\n",
    "    return result"
   ]
  },
  {
   "cell_type": "code",
   "execution_count": 2,
   "metadata": {},
   "outputs": [
    {
     "data": {
      "text/plain": [
       "8"
      ]
     },
     "execution_count": 2,
     "metadata": {},
     "output_type": "execute_result"
    }
   ],
   "source": [
    "word_count('There are many ways to solve maths problems')"
   ]
  },
  {
   "cell_type": "code",
   "execution_count": 3,
   "metadata": {},
   "outputs": [
    {
     "data": {
      "text/plain": [
       "36"
      ]
     },
     "execution_count": 3,
     "metadata": {},
     "output_type": "execute_result"
    }
   ],
   "source": [
    "char_count('There are many ways to solve maths problems')"
   ]
  },
  {
   "cell_type": "code",
   "execution_count": 42,
   "metadata": {},
   "outputs": [
    {
     "data": {
      "text/plain": [
       "(55, [1, 1, 2, 3, 5, 8, 13, 21, 34, 55])"
      ]
     },
     "execution_count": 42,
     "metadata": {},
     "output_type": "execute_result"
    }
   ],
   "source": [
    "fib(10), fib2(10)"
   ]
  },
  {
   "cell_type": "code",
   "execution_count": 35,
   "metadata": {
    "collapsed": true
   },
   "outputs": [],
   "source": [
    "def double_field(in_path, out_path, field_index, header=False):\n",
    "    f = open(in_path, 'r')\n",
    "    w = open(out_path, 'w')\n",
    "    \n",
    "    # Skip header in input_file, and write header to output file if necessary\n",
    "    if header:\n",
    "        w.write(next(f))\n",
    "    for row in f:\n",
    "        row = row.strip().split(',')\n",
    "        row[field_index] = str( float( row[field_index] ) * 2)\n",
    "        w.write(','.join(row) + '\\n')\n",
    "        \n",
    "    f.close()\n",
    "    w.close()"
   ]
  },
  {
   "cell_type": "code",
   "execution_count": 36,
   "metadata": {
    "collapsed": true
   },
   "outputs": [],
   "source": [
    "def row_sums(in_path, header=False):\n",
    "    result = list()\n",
    "    f = open(in_path, 'r')\n",
    "    \n",
    "    if header:\n",
    "        next(f)\n",
    "    for row in f:\n",
    "        row = row.strip().split(',') # get row as list\n",
    "        row = [float(x) for x in row] # convert rows to numbers\n",
    "        result.append(sum(row))\n",
    "    \n",
    "    f.close()\n",
    "    return result\n",
    "    "
   ]
  },
  {
   "cell_type": "code",
   "execution_count": 37,
   "metadata": {
    "collapsed": true
   },
   "outputs": [],
   "source": [
    "def col_sums(in_path):\n",
    "    import pandas as pd\n",
    "    df = pd.read_csv(in_path, sep=',')\n",
    "    result = list()\n",
    "    for col_name in df.columns:\n",
    "        total = df[col_name].sum()\n",
    "        result.append(total)\n",
    "    return result\n",
    "    "
   ]
  },
  {
   "cell_type": "code",
   "execution_count": 38,
   "metadata": {
    "collapsed": true
   },
   "outputs": [],
   "source": [
    "def print_lines(path):\n",
    "    with open(path) as f:\n",
    "        for line in f:\n",
    "            print(line, end='')\n"
   ]
  },
  {
   "cell_type": "code",
   "execution_count": 34,
   "metadata": {},
   "outputs": [
    {
     "name": "stdout",
     "output_type": "stream",
     "text": [
      "c1,c2,c3,c4,c5\n",
      "50,42,3,42,48\n",
      "23,36,35,24,16\n",
      "15,36,1,21,27\n",
      "7,23,49,17,9\n",
      "21,5,10,10,17\n",
      "40,24,5,2,31\n",
      "5,40,4,26,44\n",
      "18,49,9,28,7\n",
      "9,26,38,9,11\n",
      "13,19,29,7,45\n"
     ]
    }
   ],
   "source": [
    "print_lines('numbers.csv')"
   ]
  },
  {
   "cell_type": "code",
   "execution_count": 39,
   "metadata": {},
   "outputs": [
    {
     "data": {
      "text/plain": [
       "[185.0, 134.0, 100.0, 105.0, 63.0, 102.0, 119.0, 111.0, 93.0, 113.0]"
      ]
     },
     "execution_count": 39,
     "metadata": {},
     "output_type": "execute_result"
    }
   ],
   "source": [
    "row_sums('numbers.csv', True)"
   ]
  },
  {
   "cell_type": "code",
   "execution_count": 40,
   "metadata": {},
   "outputs": [
    {
     "data": {
      "text/plain": [
       "[201.0, 300.0, 183.0, 186.0, 255.0]"
      ]
     },
     "execution_count": 40,
     "metadata": {},
     "output_type": "execute_result"
    }
   ],
   "source": [
    "col_sums('numbers.csv', True)"
   ]
  },
  {
   "cell_type": "code",
   "execution_count": 44,
   "metadata": {},
   "outputs": [
    {
     "name": "stdout",
     "output_type": "stream",
     "text": [
      "first\n",
      "second\n",
      "3\n",
      "5\n",
      "----------\n",
      "a\n",
      "b\n"
     ]
    }
   ],
   "source": [
    "# *args, used when you don't know how many values you are expecting\n",
    "\n",
    "def see_args(*args):\n",
    "    for arg in args:\n",
    "        print(arg)\n",
    "\n",
    "see_args('first', 'second', 3, 5)\n",
    "print('-'*10)\n",
    "see_args('a', 'b')"
   ]
  },
  {
   "cell_type": "code",
   "execution_count": 48,
   "metadata": {},
   "outputs": [
    {
     "name": "stdout",
     "output_type": "stream",
     "text": [
      "Hi, I'm Abby. I'm 22 years old.\n"
     ]
    }
   ],
   "source": [
    "# Sometimes a function takes some number of arugments, but the arguments we want to pass are in a tuple or list\n",
    "# and we don't want to pass each item individually. We can use *args to unpack those values into the function call\n",
    "\n",
    "def greet(name, age):\n",
    "    print('Hi, I\\'m {}. I\\'m {} years old.'.format(name, age))\n",
    "\n",
    "info = ('Abby', 22) # notice that the name doesn't have to be 'args', that asterisk is what is important\n",
    "info2 = ('arg1', 'arg2', 'too many arg')\n",
    "\n",
    "greet(*info) # no need to access each individual item and pass\n"
   ]
  },
  {
   "cell_type": "code",
   "execution_count": 49,
   "metadata": {},
   "outputs": [
    {
     "ename": "TypeError",
     "evalue": "greet() takes 2 positional arguments but 3 were given",
     "output_type": "error",
     "traceback": [
      "\u001b[0;31m---------------------------------------------------------------------------\u001b[0m",
      "\u001b[0;31mTypeError\u001b[0m                                 Traceback (most recent call last)",
      "\u001b[0;32m<ipython-input-49-ab163e27f41a>\u001b[0m in \u001b[0;36m<module>\u001b[0;34m()\u001b[0m\n\u001b[0;32m----> 1\u001b[0;31m \u001b[0mgreet\u001b[0m\u001b[0;34m(\u001b[0m\u001b[0;34m*\u001b[0m\u001b[0minfo2\u001b[0m\u001b[0;34m)\u001b[0m\u001b[0;34m\u001b[0m\u001b[0m\n\u001b[0m",
      "\u001b[0;31mTypeError\u001b[0m: greet() takes 2 positional arguments but 3 were given"
     ]
    }
   ],
   "source": [
    "greet(*info2) # gives error because function takes 2 args, but when we unpack, there are 3 items"
   ]
  },
  {
   "cell_type": "code",
   "execution_count": 46,
   "metadata": {},
   "outputs": [
    {
     "name": "stdout",
     "output_type": "stream",
     "text": [
      "{'name': 'Sam', 'age': 21, 'bd': '02/13/98'}\n",
      "{'major': 'CS', 'grad': 2020}\n"
     ]
    }
   ],
   "source": [
    "# **kwargs is used for an unknown number of named arguments\n",
    "\n",
    "def see_kwargs(**kwargs):\n",
    "    print(kwargs)\n",
    "\n",
    "see_kwargs(name='Sam', age=21, bd='02/13/98') # Python stores it as a dictionary\n",
    "see_kwargs(major='CS', grad=2020)"
   ]
  },
  {
   "cell_type": "code",
   "execution_count": 50,
   "metadata": {},
   "outputs": [
    {
     "name": "stdout",
     "output_type": "stream",
     "text": [
      "Hi, I'm Brian. I'm 13 years old.\n"
     ]
    }
   ],
   "source": [
    "# We can pass **kwargs as a dictionary to a function, and python will automatically figure out which arguments fit\n",
    "\n",
    "kwargs = {'name': 'Brian', 'age': 13} # again, it doesn't have to be called kwargs\n",
    "\n",
    "greet(**kwargs) # python maps the 'name' key to the name variable of our function"
   ]
  },
  {
   "cell_type": "code",
   "execution_count": 52,
   "metadata": {},
   "outputs": [
    {
     "ename": "TypeError",
     "evalue": "greet() got an unexpected keyword argument 'Extra'",
     "output_type": "error",
     "traceback": [
      "\u001b[0;31m---------------------------------------------------------------------------\u001b[0m",
      "\u001b[0;31mTypeError\u001b[0m                                 Traceback (most recent call last)",
      "\u001b[0;32m<ipython-input-52-0f098f41e096>\u001b[0m in \u001b[0;36m<module>\u001b[0;34m()\u001b[0m\n\u001b[1;32m      1\u001b[0m \u001b[0mkwargs2\u001b[0m \u001b[0;34m=\u001b[0m \u001b[0;34m{\u001b[0m\u001b[0;34m'name'\u001b[0m\u001b[0;34m:\u001b[0m \u001b[0;34m'Brian'\u001b[0m\u001b[0;34m,\u001b[0m \u001b[0;34m'age'\u001b[0m\u001b[0;34m:\u001b[0m \u001b[0;36m13\u001b[0m\u001b[0;34m,\u001b[0m \u001b[0;34m'Extra'\u001b[0m\u001b[0;34m:\u001b[0m \u001b[0;34m'Value'\u001b[0m\u001b[0;34m}\u001b[0m\u001b[0;34m\u001b[0m\u001b[0m\n\u001b[1;32m      2\u001b[0m \u001b[0;34m\u001b[0m\u001b[0m\n\u001b[0;32m----> 3\u001b[0;31m \u001b[0mgreet\u001b[0m\u001b[0;34m(\u001b[0m\u001b[0;34m**\u001b[0m\u001b[0mkwargs2\u001b[0m\u001b[0;34m)\u001b[0m\u001b[0;34m\u001b[0m\u001b[0m\n\u001b[0m",
      "\u001b[0;31mTypeError\u001b[0m: greet() got an unexpected keyword argument 'Extra'"
     ]
    }
   ],
   "source": [
    "kwargs2 = {'name': 'Brian', 'age': 13, 'Extra': 'Value'}\n",
    "\n",
    "greet(**kwargs2) # Get error because our function only has 2 args, but we passed extra"
   ]
  },
  {
   "cell_type": "code",
   "execution_count": 1,
   "metadata": {},
   "outputs": [],
   "source": [
    "from collections import OrderedDict, defaultdict\n",
    "#import sys\n",
    "\n",
    "def first_unique_char(string):\n",
    "    track = OrderedDict()\n",
    "\n",
    "    for char in string:\n",
    "        try:\n",
    "            track[char] += 1\n",
    "        except KeyError:\n",
    "            track[char] = 1\n",
    "\n",
    "    for char, count in track.items():\n",
    "        if count == 1:\n",
    "            return char\n",
    "\n",
    "\n",
    "def make_change(change, coins):\n",
    "\ttrack = defaultdict(int)\n",
    "\n",
    "\tfor coin in coins:\n",
    "\t\twhile change >= coin:\n",
    "\t\t\tchange -= coin\n",
    "\t\t\ttrack[coin] += 1\n",
    "\t\t\tchange = round(change, 2)\n",
    "\t\tif change == 0:\n",
    "\t\t\tbreak\n",
    "\treturn track\n",
    "\n",
    "\n",
    "#change = float(sys.argv[1])\n",
    "#coins = [float(x) for x in sys.argv[2].split(',')]\n",
    "\n",
    "#print(change, coins)\n",
    "#print(make_change(change, coins))\n",
    "\n",
    "#insertion sort\n",
    "def insertion_sort(arr):\n",
    "        \n",
    "    for i in range(len(arr)):\n",
    "        element = arr[i]\n",
    "        pos = i\n",
    "        \n",
    "        while pos > 0 and arr[pos - 1] > element:\n",
    "            # Swap the number down the list\n",
    "            arr[pos] = arr[pos - 1]\n",
    "            pos = pos - 1\n",
    "        # Break and do the final swap\n",
    "        arr[pos] = element\n",
    "\n",
    "    return arr\n"
   ]
  }
 ],
 "metadata": {
  "kernelspec": {
   "display_name": "Python 3",
   "language": "python",
   "name": "python3"
  },
  "language_info": {
   "codemirror_mode": {
    "name": "ipython",
    "version": 3
   },
   "file_extension": ".py",
   "mimetype": "text/x-python",
   "name": "python",
   "nbconvert_exporter": "python",
   "pygments_lexer": "ipython3",
   "version": "3.6.5"
  }
 },
 "nbformat": 4,
 "nbformat_minor": 2
}
